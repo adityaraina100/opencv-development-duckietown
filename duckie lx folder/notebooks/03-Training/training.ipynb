{
 "cells": [
  {
   "cell_type": "markdown",
   "metadata": {},
   "source": [
    "<p style=\"text-align: center\">\n",
    "<img src=\"../../assets/images/dtlogo.png\" alt=\"Duckietown\" width=\"50%\">\n",
    "</p>"
   ]
  },
  {
   "cell_type": "markdown",
   "metadata": {},
   "source": [
    "# Training your Model\n",
    "\n"
   ]
  },
  {
   "cell_type": "markdown",
   "metadata": {},
   "source": [
    "#### Upload your dataset\n",
    "\n",
    "We will be training your model on Google Colab.\n",
    "\n",
    "To use your images obtained from the previous step there, we will need to upload your dataset to your Google Drive. But before you upload, let's first zip the `train` and `val` folders in the `assets/duckietown_object_detection_dataset` directory of this exercise.\n",
    "\n",
    "Please go ahead and execute the following 2 cells' code (Please do NOT change)."
   ]
  },
  {
   "cell_type": "code",
   "execution_count": null,
   "metadata": {},
   "outputs": [],
   "source": [
    "%load_ext autoreload\n",
    "%autoreload 2"
   ]
  },
  {
   "cell_type": "code",
   "execution_count": null,
   "metadata": {},
   "outputs": [],
   "source": [
    "import os\n",
    "import tempfile\n",
    "import shutil\n",
    "from typing import List\n",
    "from datetime import datetime\n",
    "\n",
    "\n",
    "def zip_sub_dirs(abs_root_dir: str, lst_rel_subdirs: List[str], output_basename: str) -> str:\n",
    "    \"\"\"Zip some sub-directories, return the zipped file's path\"\"\"\n",
    "\n",
    "    # check no identical output file exists\n",
    "    out_full = f\"{output_basename}.zip\"\n",
    "    if os.path.exists(out_full):\n",
    "        print(f\"File already exists at: {out_full}\")\n",
    "        print(\"Rename/Move it to run.\\nNo operations performed.\")\n",
    "        return \"\"\n",
    "\n",
    "    # make temporary directory\n",
    "    tmp_dir = tempfile.mkdtemp()\n",
    "    print(f\"[{datetime.now()}] Temporary directory created at: {tmp_dir}\")\n",
    "\n",
    "    # format subdir original and temporary paths\n",
    "    original_paths = [os.path.join(abs_root_dir, _d) for _d in lst_rel_subdirs]\n",
    "    tmp_paths = [os.path.join(tmp_dir, _d) for _d in lst_rel_subdirs]\n",
    "\n",
    "    print(f\"[{datetime.now()}] List of directories to include in the zip file:\")\n",
    "    # ensure all specified subdirs exist\n",
    "    for subdir in original_paths:\n",
    "        assert os.path.exists(subdir), f\"Specified path does not exist: {subdir}\\nAbort! No operations performed.\"\n",
    "        print(f\" - {subdir}\")\n",
    "\n",
    "    print(f\"[{datetime.now()}] Move subdirs to the temp root dir\")\n",
    "    # move subdirs to the tmp dir\n",
    "    for ori, tmp in zip(original_paths, tmp_paths):\n",
    "        shutil.move(ori, tmp)\n",
    "\n",
    "    # create the zip archive\n",
    "    print(f\"[{datetime.now()}] Compressing and creating the archive...\")\n",
    "    ret = shutil.make_archive(output_basename, 'zip', tmp_dir)\n",
    "    \n",
    "    print(f\"[{datetime.now()}] Move subdirs back to original location\")\n",
    "    # move directories back to original location\n",
    "    for tmp, ori in zip(tmp_paths, original_paths):\n",
    "        shutil.move(tmp, ori)\n",
    "    \n",
    "    print(f\"[{datetime.now()}] Finished. Archive created at: {ret}\")\n",
    "    return ret\n",
    "\n",
    "\n",
    "# NOTE: DO NOT change these\n",
    "# zip file basename for our dataset\n",
    "ZIPPED_DATASET_BASENAME_FILE = \"duckietown_object_detection_dataset\"\n",
    "# file/dir location constants\n",
    "DATASET_DIR = \"/code/object-detection/assets/duckietown_object_detection_dataset\"\n",
    "# path and file name (without file extension)\n",
    "ZIPPED_DATASET_BASENAME_FULL = os.path.join(DATASET_DIR, ZIPPED_DATASET_BASENAME_FILE)\n",
    "TRAIN_DIR = \"train\"\n",
    "VALIDATION_DIR = \"val\"\n",
    "\n",
    "_ = zip_sub_dirs(\n",
    "    abs_root_dir=DATASET_DIR,\n",
    "    lst_rel_subdirs=[TRAIN_DIR, VALIDATION_DIR],\n",
    "    output_basename=ZIPPED_DATASET_BASENAME_FULL,\n",
    ")"
   ]
  },
  {
   "cell_type": "markdown",
   "metadata": {},
   "source": [
    "If everything went well, you should see the following output now:\n",
    "```\n",
    "Finished. Archive created at: /code/object-detection/assets/duckietown_object_detection_dataset/duckietown_object_detection_dataset.zip\n",
    "```\n",
    "\n",
    "The **zip file** is located in the *assets/duckietown_object_detection_dataset* directory of this exercise. You can upload it by going on your Google Drive\n",
    "and dragging the file into your drive.\n",
    "\n",
    "Please be aware that\n",
    "* you should **not** rename the dataset zip file\n",
    "* the file should be uploaded to the out-most ***\"My Drive\"*** area"
   ]
  },
  {
   "cell_type": "markdown",
   "metadata": {},
   "source": [
    "\n",
    "#### Training with Google Colab\n",
    "\n",
    "***IMPORTANT:*** Make sure you carefully read the rest of this section **BEFORE** running anything in Colab.\n",
    "\n",
    "* Use [this Google Colab Notebook](https://colab.research.google.com/github/duckietown/duckietown-lx-recipes/blob/mooc2022/object-detection/assets/colab/dt_object_detection_training.ipynb) to train your model. \n",
    "\n",
    "* Make sure the runtime type to GPU-accelerated!\n",
    "\n",
    "    Click on Runtime > Change Runtime Type.\n",
    "\n",
    "    ![](../../assets/images/colab1.png)\n",
    "\n",
    "    Then, in the drop-down menu, select \"GPU\"\n",
    "\n",
    "    ![](../../assets/images/colab2.png)\n",
    "\n",
    "* When prompted the warning below, click \"*Run anyway*\"\n",
    "    ![](../../assets/images/colab_instr_3_run_nb.png)\n",
    "\n",
    "* When prompted the notification below, click \"*Connect to Google Drive*\"\n",
    "    ![](../../assets/images/colab_instr_4_connect_gdrive.png)\n",
    "\n",
    "***NOTE:*** If you want to view the training statistics and artefacts, do NOT close the Colab notebook after training. Follow the instructions in the following **Debugging and Model Inspection** section to examine these contents.\n",
    "\n",
    "Now follow the instructions in the Colab notebook. \n",
    "For reference, on google colab, training with the default settings takes a few minutes.\n"
   ]
  },
  {
   "cell_type": "markdown",
   "metadata": {},
   "source": [
    "#### Optional (**not officially supported**) - local training\n",
    "\n",
    "This is only recommended for experienced Machine Learning enthusiasts.\n",
    "Training the model requires a GPU. If you have one, you can run the command,\n",
    "\n",
    "```\n",
    "git clone -b dt-obj-det https://github.com/duckietown/yolov5.git\n",
    "```\n",
    "\n",
    "You must now install all dependencies required by yolov5, and then call \n",
    "\n",
    "```\n",
    "python3 train.py --img 416 --batch 16 --epochs 100 --data duckietown.yaml --weights yolov5n.pt\n",
    "```\n",
    "\n",
    "For reference, on a computer with `Nvidia GTX 1080TI` GPU and `Ryzen 3700x` CPU, training took about 20 minutes. "
   ]
  },
  {
   "cell_type": "markdown",
   "metadata": {},
   "source": [
    "# Debugging and Model Inspection"
   ]
  },
  {
   "cell_type": "markdown",
   "metadata": {},
   "source": [
    "One you have finished training on Colab, there are a bunch of interesting outputs that will get generated during the training process that can be helpful for you to look at.\n",
    "\n",
    "* During the Colab notebook execution, a session temporary workspace directory has been created. The path is shown in a cell output, similar as `Session workspace created at: /tmp/tmpxe3g50sz`\n",
    "* Navigate to the workspace folder in the left Navigation Menu (on Colab), in the Files tree. (You might need to click the `..` to go up to `/`)\n",
    "* After locating the `/tmp/...` workspace folder, go into the `yolov5` directory inside.\n",
    "* Then navigate to `runs/train/expX/` where `X` is incremented each time you train.\n",
    "* If you want to save these results, using the left Navigation Menu's Files tree, drag the folders/files you want to keep, to the `/content/drive/MyDrive` directory. Then you will be able to find them in your Google Drive even after closing the Colab session.\n",
    "\n",
    "In here you can see things like your PR curve, e.g.:\n",
    "\n",
    "<img src=\"../../assets/images/PR_curve.png\" alt=\"PR Curve\" width=\"50%\">\n",
    "\n",
    "Your confusion matrix:\n",
    "\n",
    "<img src=\"../../assets/images/confusion_matrix.png\" alt=\"PR Curve\" width=\"50%\">\n",
    "\n",
    "And sample training outputs:\n",
    "\n",
    "<img src=\"../../assets/images/train_batch1.jpg\" alt=\"PR Curve\" width=\"50%\">"
   ]
  },
  {
   "cell_type": "markdown",
   "metadata": {},
   "source": [
    "# Next step\n",
    "\n",
    "Onto the [Integration notebook](../04-Integration/integration.ipynb)!"
   ]
  }
 ],
 "metadata": {
  "kernelspec": {
   "display_name": "Python 3.8.10 64-bit",
   "language": "python",
   "name": "python3"
  },
  "language_info": {
   "codemirror_mode": {
    "name": "ipython",
    "version": 3
   },
   "file_extension": ".py",
   "mimetype": "text/x-python",
   "name": "python",
   "nbconvert_exporter": "python",
   "pygments_lexer": "ipython3",
   "version": "3.8.10"
  },
  "vscode": {
   "interpreter": {
    "hash": "916dbcbb3f70747c44a77c7bcd40155683ae19c65e1c03b4aa3499c5328201f1"
   }
  }
 },
 "nbformat": 4,
 "nbformat_minor": 4
}
