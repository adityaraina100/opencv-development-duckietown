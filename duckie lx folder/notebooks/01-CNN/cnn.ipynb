{
 "cells": [
  {
   "cell_type": "markdown",
   "metadata": {},
   "source": [
    "<p style=\"text-align: center\">\n",
    "<img src=\"../../assets/images/dtlogo.png\" alt=\"Duckietown\" width=\"50%\">\n",
    "</p>"
   ]
  },
  {
   "cell_type": "markdown",
   "metadata": {},
   "source": [
    "# Getting Started with Colab\n",
    "\n",
    "If you are unfamiliar with CNNs, we have made a **Google Colab Notebook** for you to get started: [Intro to neural networks with Duckietown](https://colab.research.google.com/github/duckietown/duckietown-lx-recipes/blob/mooc2022/object-detection/assets/colab/dt_intro_nn_with_pytorch.ipynb). **This notebook is completely optional.**\n",
    "\n",
    "To access the tutorial:\n",
    "1) You should first click on the link to open up the notebook on Colab. \n",
    "2) Then you should click on the \"Copy to Drive\" button at the top left.\n",
    "3) In order to get access to the GPU resources, you should now click on the \"Connect\" button at the top right. Afterwards you should see that you have been allocated RAM and disk.\n",
    "3) Complete the steps to define and evaluate your own Nerual Net using PyTorch.\n",
    "\n",
    "Once you have completed the notebook in Colab (if you felt the need to do so), you can move on to the second notebook [02-Setup-and-Data-Collection](../02-Setup-Data-Collection/setup.ipynb)."
   ]
  }
 ],
 "metadata": {
  "kernelspec": {
   "display_name": "Python 3.8.10 64-bit",
   "language": "python",
   "name": "python3"
  },
  "language_info": {
   "codemirror_mode": {
    "name": "ipython",
    "version": 3
   },
   "file_extension": ".py",
   "mimetype": "text/x-python",
   "name": "python",
   "nbconvert_exporter": "python",
   "pygments_lexer": "ipython3",
   "version": "3.8.10"
  },
  "vscode": {
   "interpreter": {
    "hash": "916dbcbb3f70747c44a77c7bcd40155683ae19c65e1c03b4aa3499c5328201f1"
   }
  }
 },
 "nbformat": 4,
 "nbformat_minor": 4
}
